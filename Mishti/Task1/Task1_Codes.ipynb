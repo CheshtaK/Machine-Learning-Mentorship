{
 "cells": [
  {
   "cell_type": "code",
   "execution_count": 1,
   "metadata": {},
   "outputs": [
    {
     "name": "stdout",
     "output_type": "stream",
     "text": [
      "6\n",
      "Weird\n"
     ]
    }
   ],
   "source": [
    "import math\n",
    "import os\n",
    "import random\n",
    "import re\n",
    "import sys\n",
    "\n",
    "if __name__ == '__main__':\n",
    "    n = int(input().strip())\n",
    "if (n>=1 and n<=100):\n",
    "    if (n%2 != 0):\n",
    "        print('Weird')\n",
    "    elif (n%2 == 0):\n",
    "        if(n>=2 and n<=5): \n",
    "            print('Not Weird')\n",
    "        elif (n>=6 and n<=20):\n",
    "            print('Weird')\n",
    "        elif (n>20):\n",
    "            print('Not Weird')\n",
    "else:\n",
    "    print('Invalid value of n')"
   ]
  },
  {
   "cell_type": "code",
   "execution_count": 1,
   "metadata": {},
   "outputs": [
    {
     "name": "stdout",
     "output_type": "stream",
     "text": [
      "6\n",
      "abc\n",
      "abe\n",
      "def\n",
      "abe\n",
      "dde\n",
      "def\n",
      "4\n",
      "1 2 2 1 "
     ]
    }
   ],
   "source": [
    "from collections import Counter\n",
    "\n",
    "list1=[]\n",
    "n=int(input())\n",
    "if n>=1 and n<=100000:\n",
    "    for i in range (0,n):\n",
    "        x=input()\n",
    "        list1.append(x)\n",
    "    d=dict(Counter(list1))\n",
    "    y=len(d)\n",
    "    print(y)\n",
    "    for item in d:\n",
    "        print(d[item], end= ' ')\n",
    "else:\n",
    "    print('wrong input!')"
   ]
  },
  {
   "cell_type": "code",
   "execution_count": null,
   "metadata": {},
   "outputs": [],
   "source": [
    "#!/bin/python3\n",
    "\n",
    "import math\n",
    "import os\n",
    "import random\n",
    "import re\n",
    "import sys\n",
    "from datetime import datetime\n",
    "#Sun 10 May 2015 13:54:36 -0700\n",
    "# Complete the time_delta function below.\n",
    "def time_delta(t1, t2):\n",
    "    date1 = datetime.strptime(t1,'%a %d %b %Y %H:%M:%S %z')\n",
    "    date2 = datetime.strptime(t2,'%a %d %b %Y %H:%M:%S %z')\n",
    "    diff = abs(date1 - date2)\n",
    "    y= diff.total_seconds()\n",
    "    if y==0:\n",
    "        t3= t1.split(' ')[-1]\n",
    "        t4= t2.split(' ')[-1]\n",
    "        t5= abs(y-(t3.total_seconds()-t4.total_seconds()))\n",
    "        return int(t5)\n",
    "    else:\n",
    "        return int(y)\n",
    "\n",
    "if __name__ == '__main__':\n",
    "    fptr = open(os.environ['OUTPUT_PATH'], 'w')\n",
    "\n",
    "    t = int(input())\n",
    "\n",
    "    for t_itr in range(t):\n",
    "        t1 = input()\n",
    "\n",
    "        t2 = input()\n",
    "\n",
    "        delta = time_delta(t1, t2)\n",
    "\n",
    "        fptr.write(str(delta)+'\\n')\n",
    "\n",
    "    fptr.close()\n"
   ]
  }
 ],
 "metadata": {
  "kernelspec": {
   "display_name": "Python 3",
   "language": "python",
   "name": "python3"
  },
  "language_info": {
   "codemirror_mode": {
    "name": "ipython",
    "version": 3
   },
   "file_extension": ".py",
   "mimetype": "text/x-python",
   "name": "python",
   "nbconvert_exporter": "python",
   "pygments_lexer": "ipython3",
   "version": "3.7.4"
  }
 },
 "nbformat": 4,
 "nbformat_minor": 2
}
