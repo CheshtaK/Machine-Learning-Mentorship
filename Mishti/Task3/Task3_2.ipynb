{
 "cells": [
  {
   "cell_type": "code",
   "execution_count": 197,
   "metadata": {},
   "outputs": [
    {
     "name": "stdout",
     "output_type": "stream",
     "text": [
      "   feature_1  feature_2  feature_3  feature_4  feature_5     target\n",
      "0   0.293416  -0.945599  -0.421105   0.406816   0.525662 -82.154667\n",
      "1  -0.836084  -0.189228  -0.776403  -1.053831   0.597997 -48.897960\n",
      "2   0.236425   0.132836  -0.147723   0.699854  -0.187364  77.270371\n",
      "3   0.175312   0.143194  -0.581111  -0.122107  -1.292168  -2.988581\n",
      "4  -1.693011   0.542712  -2.798729  -0.686723   1.244077 -37.596722\n"
     ]
    }
   ],
   "source": [
    "import numpy as np\n",
    "import pandas as pd\n",
    "import matplotlib.pyplot as plt\n",
    "from sklearn.linear_model import LinearRegression\n",
    "\n",
    "train_data = pd.read_csv('C:\\\\Users\\\\abc\\\\Anaconda3\\\\Train_3.csv')\n",
    "print(train_data.head())"
   ]
  },
  {
   "cell_type": "code",
   "execution_count": 198,
   "metadata": {},
   "outputs": [
    {
     "name": "stdout",
     "output_type": "stream",
     "text": [
      "[[ 0.29341624 -0.94559871 -0.42110515  0.40681602  0.52566183]\n",
      " [-0.83608408 -0.18922804 -0.77640262 -1.05383124  0.59799685]\n",
      " [ 0.23642511  0.13283602 -0.14772298  0.69985396 -0.18736416]\n",
      " ...\n",
      " [ 1.04417694 -0.89920649  1.73039905 -1.87105676  0.44251965]\n",
      " [-1.2691729  -0.00505216  1.85766873 -1.08036482  0.73633394]\n",
      " [-1.88400025 -0.84942743 -1.45227035  0.48861308  1.4595758 ]]\n",
      "(1600, 5)\n"
     ]
    }
   ],
   "source": [
    "train_feature = train_data[['feature_1','feature_2','feature_3','feature_4','feature_5']].values\n",
    "print(train_feature)\n",
    "print(train_feature.shape)"
   ]
  },
  {
   "cell_type": "code",
   "execution_count": 199,
   "metadata": {},
   "outputs": [
    {
     "name": "stdout",
     "output_type": "stream",
     "text": [
      "[[ -82.15466656]\n",
      " [ -48.89796018]\n",
      " [  77.2703707 ]\n",
      " ...\n",
      " [-107.51050797]\n",
      " [ -47.34155781]\n",
      " [-115.93900296]]\n",
      "(1600, 1)\n"
     ]
    }
   ],
   "source": [
    "train_target = train_data[['target']].values\n",
    "print(train_target)\n",
    "print(train_target.shape)"
   ]
  },
  {
   "cell_type": "code",
   "execution_count": 200,
   "metadata": {},
   "outputs": [],
   "source": [
    "X=train_feature #X_train\n",
    "y=train_target #y_train\n",
    "\n",
    "#defining a function called hypothesis for the matrix multiplication of theta and the multiple features of the dataset\n",
    "\n",
    "def hypothesis(theta, X, n): #(array of 5 0s, X array with 1st col=1 + 5 cols, n=5)\n",
    "    h = np.ones((X.shape[0],1)) #matrix of ones (1600,1)\n",
    "    theta = theta.reshape(1,n+1) #reshaped matrix of theta\n",
    "    for i in range(0,X.shape[0]): \n",
    "        h[i] = float(np.matmul(theta, X[i])) #performing multiplication\n",
    "    h = h.reshape(X.shape[0])\n",
    "    return h"
   ]
  },
  {
   "cell_type": "code",
   "execution_count": 201,
   "metadata": {},
   "outputs": [],
   "source": [
    "#gradient descent function defined here\n",
    "#(6 zeros row, 0.0001, 300000, 1600 zeros row, X, y, 5)\n",
    "\n",
    "def gradient_descent(theta, learn_rate, num_iters, h, X, y, n):\n",
    "    cost = np.ones(num_iters)\n",
    "    y = y.reshape(1600,)\n",
    "    for i in range(0,num_iters):\n",
    "        theta[0] = theta[0] - (learn_rate/X.shape[0]) * sum(h - y)\n",
    "        for j in range(1,n+1):\n",
    "            theta[j] = theta[j] - (learn_rate/X.shape[0]) * sum((h-y) * X.transpose()[j])\n",
    "        h = hypothesis(theta, X, n)\n",
    "        cost[i] = (1/X.shape[0]) * 0.5 * sum(np.square(h - y))\n",
    "    theta = theta.reshape(1,n+1)\n",
    "    return theta, cost"
   ]
  },
  {
   "cell_type": "code",
   "execution_count": 202,
   "metadata": {},
   "outputs": [],
   "source": [
    "#performing linear regression by making a function called linear_regression\n",
    "\n",
    "def linear_regression(X, y, learn_rate, num_iters):   #(X, y,0.0001, 3000)\n",
    "    n = X.shape[1] #n=5\n",
    "    one_column = np.ones((X.shape[0],1))\n",
    "    X = np.concatenate((one_column, X), axis = 1)\n",
    "    theta = np.zeros(n+1) #initializing the parameter vector\n",
    "    h = hypothesis(theta, X, n) #hypothesis calculation #(array of 5 0s, X array with 1st col=1 + 5 cols, n=5)\n",
    "    theta, cost = gradient_descent(theta,learn_rate,num_iters,h,X,y,n) #returning the optimized parameters by Gradient Descent\n",
    "    return theta, cost"
   ]
  },
  {
   "cell_type": "code",
   "execution_count": 203,
   "metadata": {},
   "outputs": [],
   "source": [
    "mean = np.ones(X.shape[1])\n",
    "std = np.ones(X.shape[1])\n",
    "for i in range(0, X.shape[1]):\n",
    "    mean[i] = np.mean(X.transpose()[i])\n",
    "    std[i] = np.std(X.transpose()[i])\n",
    "    for j in range(0, X.shape[0]):\n",
    "        X[j][i] = (X[j][i] - mean[i])/std[i]"
   ]
  },
  {
   "cell_type": "code",
   "execution_count": 204,
   "metadata": {},
   "outputs": [
    {
     "data": {
      "text/plain": [
       "array([ 0.0041143 , -0.0276038 , -0.04445943, -0.04240792,  0.01200535])"
      ]
     },
     "execution_count": 204,
     "metadata": {},
     "output_type": "execute_result"
    }
   ],
   "source": [
    "mean"
   ]
  },
  {
   "cell_type": "code",
   "execution_count": 205,
   "metadata": {},
   "outputs": [
    {
     "data": {
      "text/plain": [
       "array([0.99702582, 1.02145636, 1.01145129, 1.01687155, 0.97834768])"
      ]
     },
     "execution_count": 205,
     "metadata": {},
     "output_type": "execute_result"
    }
   ],
   "source": [
    "std"
   ]
  },
  {
   "cell_type": "code",
   "execution_count": 206,
   "metadata": {},
   "outputs": [],
   "source": [
    "theta, cost = linear_regression(X,y,0.001,30000)"
   ]
  },
  {
   "cell_type": "code",
   "execution_count": 207,
   "metadata": {},
   "outputs": [
    {
     "name": "stdout",
     "output_type": "stream",
     "text": [
      "[[ 0.31883538 29.59359198 94.65067706  8.37544469 45.52303635  2.46461552]]\n"
     ]
    }
   ],
   "source": [
    "print(theta)"
   ]
  },
  {
   "cell_type": "code",
   "execution_count": 208,
   "metadata": {},
   "outputs": [
    {
     "name": "stdout",
     "output_type": "stream",
     "text": [
      "[[ 2.19276453e-01 -1.50092270e+00  4.50940838e-01  9.00056180e-01\n",
      "  -2.33720247e-01 -9.44663008e+01]\n",
      " [-9.38644372e-01 -6.41440929e-01  7.58345045e-01  1.43067514e+00\n",
      "  -1.04178346e+00 -2.47689833e+01]\n",
      " [ 7.22543566e-01 -1.13177602e-01 -6.99672763e-02 -1.82374980e+00\n",
      "   3.25823707e-01 -3.98528103e+01]\n",
      " ...\n",
      " [-2.51352937e-01 -1.23113076e+00 -1.69452370e-01  1.11946897e+00\n",
      "   2.15639592e+00 -6.90734391e+01]\n",
      " [ 2.82031084e-01  7.36082802e-01 -4.56391298e-01  7.60166092e-01\n",
      "   5.85222535e-01  9.28014358e+01]\n",
      " [-1.38649009e-02 -1.03812765e+00 -1.08653567e+00 -4.70817513e-01\n",
      "   1.59466764e-01 -1.21587213e+02]]\n"
     ]
    }
   ],
   "source": [
    "test_data = pd.read_csv('C:\\\\Users\\\\abc\\\\Anaconda3\\\\Test_3.csv')\n",
    "test_values = test_data.values\n",
    "print(test_values)"
   ]
  },
  {
   "cell_type": "code",
   "execution_count": 209,
   "metadata": {},
   "outputs": [],
   "source": [
    "X_test = test_data.drop('target', axis=1)"
   ]
  },
  {
   "cell_type": "code",
   "execution_count": 210,
   "metadata": {},
   "outputs": [
    {
     "name": "stdout",
     "output_type": "stream",
     "text": [
      "[[ 0.21927645 -1.5009227   0.45094084 ... -0.57724732 -0.13532242\n",
      "   0.15871026]\n",
      " [-0.82658058 -0.26922801 -0.01631519 ... -0.45858937 -0.57518999\n",
      "  -0.04164595]\n",
      " [ 0.75438983 -0.90794557  1.05867483 ...  0.92676403  0.26920183\n",
      "   0.45211349]\n",
      " [ 0.75216124 -0.44355522 -0.2571625  ...  0.05543749 -0.53426066\n",
      "   0.24324266]\n",
      " [ 1.15485673  0.43815459  0.2909103  ... -1.08653567 -0.47081751\n",
      "   0.15946676]]\n",
      "[[ 0.31883538 29.59359198 94.65067706  8.37544469 45.52303635]]\n"
     ]
    }
   ],
   "source": [
    "b = X_test.values\n",
    "b = b.reshape(5,400)\n",
    "print(b)\n",
    "a = theta[:,0:5]\n",
    "print (a)"
   ]
  },
  {
   "cell_type": "code",
   "execution_count": 211,
   "metadata": {},
   "outputs": [
    {
     "name": "stdout",
     "output_type": "stream",
     "text": [
      "[[ 105.88420226  -78.1524789   110.95450994   96.03155688 -168.26261918\n",
      "   205.98942351  -17.90322522 -175.9237971   306.1237707   -52.8027178\n",
      "   -86.6248629    34.29047503 -115.22835081 -151.37880207   54.87101284\n",
      "    88.64597098   92.67870527   81.25115097  -19.05438379 -120.58480522\n",
      "   -33.99090802    4.40905491 -288.76883992   37.80470331  219.93041843\n",
      "   -93.3479316    45.97166299 -156.01723628 -117.2457007    21.85086818\n",
      "    38.23991866  329.09235119  -43.32634243   19.60303221   64.00560536\n",
      "   172.54717485 -124.47767404  195.83502329   87.66913149  -29.70513468\n",
      "   -88.60984519  -31.24425376   61.86047754 -120.12781411 -161.96598372\n",
      "   109.51035738   74.24911428  -49.23071383   24.0258414   -23.24332314\n",
      "    50.53624244 -121.88179199  -83.767219   -146.90215491 -156.35890882\n",
      "   -80.71585893  -77.29077705  -22.74802942 -102.2088048    92.30186947\n",
      "   -72.90673224    8.94793321   72.28083255   52.65676956  -27.73010028\n",
      "   -72.531296    298.93814874   18.1889181   -36.20236281 -134.6814516\n",
      "    93.42905842  -55.04055226 -215.49523249  119.02965449 -161.13054477\n",
      "  -140.82539045 -103.35397439   29.10692555  -74.40723639 -223.86870737\n",
      "   -53.50806195  -20.2790165    71.7538771    85.81480261  -72.22040877\n",
      "   145.21193527   64.57172376   59.79620824  -13.59512251  -57.75202868\n",
      "  -221.28759057 -118.50339875 -228.83273308 -168.99934706  -52.51400041\n",
      "   132.81172818   10.33242593  209.60845731 -203.05398664    6.72430389\n",
      "    49.39689566  -14.51589517  -27.11298084 -110.66786747 -163.50642916\n",
      "    46.66678542 -107.7146887   113.47895936  -33.43663447   66.8196366\n",
      "   -97.15725115 -323.47896156   98.84092102  119.94774261  -29.65624392\n",
      "   -90.50363768  -18.76720371  -97.92268019 -154.382869    -39.62468222\n",
      "   106.44632777   52.96395166   32.877014   -255.89750018   93.08193139\n",
      "  -107.48884759   18.84867586 -259.18337538 -300.71179709  -29.36109216\n",
      "    -3.13466079  101.52313393   35.19012435   86.24400415  -24.35550799\n",
      "   -45.66065688  143.7908198   -14.34548674   45.18190874  106.34011999\n",
      "     5.3694235   -86.32078147 -173.40245832 -103.60632825   -7.69883841\n",
      "    94.6830914   -25.22013709  -48.29230489   88.92130326   33.69187905\n",
      "  -175.90910439   74.57768477  -31.84159934   41.31546615   67.77484974\n",
      "   148.77087219   96.30219566   39.36471033   93.22395105   57.06636441\n",
      "  -128.00141857   85.11548781  -48.386045     37.19454328  127.3430522\n",
      "    15.57440758  -39.45507784  204.30307309  -36.03698951 -115.10795259\n",
      "    20.03918872  122.44140697  -16.17557516  -99.78533816  134.82900312\n",
      "   -63.91407622  289.22333449   98.27171171 -137.99765596 -108.62985589\n",
      "    -4.31764256   66.3603178   -52.76900989  100.50327513   10.82258418\n",
      "   150.72483074  146.60223066 -192.57462253  173.02189116   50.01159523\n",
      "    46.77850987  198.19654883 -110.66770812  161.15630275   53.71690592\n",
      "   -85.18911723  -59.95686017  181.28703674  214.29333172    3.57802534\n",
      "  -136.38408817  -28.16967399  108.46230315  -45.7811311   -21.57310419\n",
      "    25.92773757  -91.45068185  -78.31663561  -35.48428961  -36.55869833\n",
      "   146.46428894   52.49669377  -78.80879374  -23.01254861 -115.76029135\n",
      "  -122.71383562   13.52028795  -65.41677953 -106.68841834   61.4017188\n",
      "   -91.05094466   -0.4829544    28.04606442  198.68125355  -18.5317912\n",
      "   102.28459773 -321.4318065   -69.07864978  101.32201119  -18.85150617\n",
      "   143.74242645 -114.85705183  138.4873614    29.23665857  -35.96940696\n",
      "   -23.65840808   13.99388562   46.67057399  -72.38075072   53.7566228\n",
      "    -8.62382362  164.05307725  -95.39014279  -89.63341295   19.33058005\n",
      "  -128.07771721  114.22352784   45.99412428  109.90497921    1.26614805\n",
      "   -64.51141173   50.30316592  151.44987794    6.44321694  -92.06912724\n",
      "   -10.27214684 -115.64608657  -11.48803728 -179.05924601  -31.96274096\n",
      "   -45.08718016    7.24641143  -43.09651554   37.7120746   -25.7107345\n",
      "    66.28056258  161.50102424 -122.39206784    9.85851776  152.10420283\n",
      "    40.45953793   75.8564955   202.34092442   12.11907576   46.48839331\n",
      "    91.80486005 -184.83703131  137.35964944   43.17285047 -115.16125413\n",
      "  -135.92524317  -90.82395734   45.62146301  -17.30846789  -37.48374119\n",
      "     4.73958641  135.06534832 -100.06445917   86.34284494  -12.65779651\n",
      "    55.43137687 -159.560792    -10.42997541 -193.89766185  188.16458865\n",
      "    47.69486335   70.36310488  -51.54313647 -113.58308459   78.99756405\n",
      "    40.79199049  -93.89286339  141.36666361  -47.18737046  -67.41809786\n",
      "  -126.80621951  -41.11123011  -19.35132136   12.86788964   55.87346117\n",
      "   -22.74287968  172.52246012 -162.60774006   53.38614241   41.36624944\n",
      "   252.36066206   14.67731995 -132.05156279  160.0872251   184.4319623\n",
      "    34.40118668 -131.75193414   43.28756484   40.87804235 -149.23574509\n",
      "   -41.89552818  224.18044731    3.71781933 -160.37029761  104.46344259\n",
      "     0.68838514  -80.93521591   99.33591818  -64.8322246   178.52670693\n",
      "    37.52476505 -221.27958324  -32.85873795 -210.59947856   -9.32931488\n",
      "   -30.83185738   70.04449642  -91.0664119    76.27343739  -52.58538891\n",
      "  -102.3170303    37.51412727 -100.6997471   196.63458046  -66.59111504\n",
      "   -44.49216796   96.00393924 -222.70166734   -5.0884945   207.15720012\n",
      "  -141.84026203   67.62765782 -118.23609587   17.13651136  -44.08103183\n",
      "    57.30878461 -169.36117109    6.17037938 -216.87965632   -3.81964974\n",
      "    85.90081733  110.0265833    -3.45273359 -165.30248801   17.48139367\n",
      "  -137.67160489  -81.28022514   35.62482436 -116.73812341   50.56109178\n",
      "   -17.87499431 -119.98957594   40.43155383  -28.34340471   82.08584414\n",
      "  -219.13158564  -48.19504431 -141.68620992   48.70891328   18.35699513\n",
      "  -120.47766007  130.40863409  -81.13032292  -22.17581466   67.87569446\n",
      "    36.90782825   -5.03343248  117.98338532   91.64334806  -97.65546554\n",
      "   -61.18384902 -102.48616413   24.9654008   -17.49266095   50.90767368]]\n"
     ]
    }
   ],
   "source": [
    "y_test = np.dot(a, b)\n",
    "print(y_test)"
   ]
  },
  {
   "cell_type": "code",
   "execution_count": 212,
   "metadata": {},
   "outputs": [
    {
     "name": "stdout",
     "output_type": "stream",
     "text": [
      "[-9.44663008e+01 -2.47689833e+01 -3.98528103e+01 -2.26279598e+02\n",
      " -5.50253044e+01 -2.02056395e+02 -1.84007599e+02  2.79620583e-03\n",
      " -3.04686920e+00 -1.40452109e+01  1.34307302e+02  3.84322797e+01\n",
      "  1.76654940e+02 -1.06203401e+02  5.67055151e+01  3.82439213e+01\n",
      "  1.21564194e+02  1.10179363e+02  2.66755810e+01  2.39380938e+01\n",
      "  5.42799182e+01  4.95930587e+01  7.65845148e+01 -6.44481370e+01\n",
      "  1.22783128e+02  5.30859692e+00 -2.56279719e+01  1.27048959e+02\n",
      " -3.55931263e+01  1.00110654e+02  3.35821292e+01 -2.52568879e+00\n",
      " -1.31008816e+02 -1.05277613e+02 -6.20927567e+01 -5.00598725e+01\n",
      " -4.00281512e+01  7.62881195e+01 -1.18352086e+02  2.87105573e+01\n",
      "  1.81903414e+02 -5.99392350e+01 -1.17181577e+02  4.57919483e+01\n",
      " -5.44162980e+01  1.03566183e+02  1.14566467e+02  1.14920956e+02\n",
      " -2.23147792e+01 -1.00904288e+02 -3.62242255e+01  2.26194210e+02\n",
      "  2.74820440e+01  1.65163691e+02 -1.63431480e+02 -1.70552300e+02\n",
      "  5.82355776e+01 -1.29717701e+02 -2.56052533e+01  4.91441997e+01\n",
      " -7.99329604e+01 -2.26009111e+01 -5.45076343e+01  2.02206152e+01\n",
      "  1.12072192e+02 -8.93120657e+01  1.58044196e+02 -2.91152990e+01\n",
      " -1.86225331e+02  2.06415113e+02 -1.35007407e+01  1.22702986e+02\n",
      "  9.76291056e+01 -8.58334595e+01  1.04013065e+02 -5.18861169e+01\n",
      " -1.13526394e+02  3.38611766e+01  2.20751551e+02 -9.05097467e+01\n",
      " -2.50986147e+01 -2.55314932e+01  3.27562736e+01  3.54725674e+01\n",
      "  1.30103685e+02 -1.90399573e+01  1.01317607e+02 -5.70470499e+01\n",
      " -3.31444309e+01 -8.48107619e+01  1.16378268e+02  1.05508948e+02\n",
      "  6.76696946e+01 -1.28171143e+02  1.10026021e+02  1.95548069e+01\n",
      " -1.12881275e+02  1.00384883e+02 -1.96848467e+02 -2.93334691e+01\n",
      "  7.13881711e+01  5.69493545e+00  1.46485158e-02  5.01971597e+00\n",
      " -5.84338808e+01 -1.04673996e+01 -2.42763823e+02  2.56608969e+01\n",
      " -1.39102193e+02  9.57059994e+01  5.53481598e+01  8.66295383e+01\n",
      " -2.89438094e+01 -6.59569626e+01  3.07050978e+02 -6.39197103e+01\n",
      "  1.66554525e+02  2.84387701e+00  9.51113635e+01  1.78375157e+02\n",
      " -5.38558040e+01 -1.54367757e+02  2.25587585e+00  6.11812661e+01\n",
      "  2.99131911e+01 -1.31750977e+02 -3.49688264e+01  1.32866612e+02\n",
      "  1.16000035e+02  7.51132562e+01  2.12577780e+02  1.11039664e+01\n",
      "  9.99581225e+01  2.46411313e+01 -1.89553493e+01 -2.99559031e+02\n",
      " -1.33811307e+02  5.98265095e+01 -3.39604778e+01  1.07561226e+02\n",
      "  6.42505306e+01  3.83757357e+01  3.90415143e+01 -1.18063352e+02\n",
      " -1.94182525e+02  2.30338202e+01  2.33080912e+01 -1.34696222e+01\n",
      " -6.45332677e+01 -4.83627454e+01  3.41718766e+01  1.03226581e+01\n",
      "  1.54296622e+02  3.19394699e+02  1.16405661e+02 -2.04501779e+00\n",
      " -1.77162886e+02  1.02981964e+02 -5.03298688e+01 -5.25603130e+01\n",
      "  1.66429702e+01  1.36713988e+02 -7.39463459e+01  1.87927062e+02\n",
      " -7.47005428e+01 -6.59144522e+01  2.67786496e+02 -6.94191411e+01\n",
      " -6.99091620e+01  2.02970571e+02 -2.55804572e+02 -9.15683803e+01\n",
      "  8.42786172e+01  1.98412664e+02  2.53716173e+01 -1.52924444e+02\n",
      " -6.08860823e+00  1.91784316e+02 -1.52624249e+02 -4.43785961e+01\n",
      "  1.31601401e+01 -3.66227086e+01 -1.67654425e+02 -1.17396580e+02\n",
      " -8.92499767e+01 -1.99038015e+02  2.07959915e+02  1.38177255e+02\n",
      " -9.84237997e+01  1.71221460e+02 -1.01956123e+01  7.91324799e+01\n",
      " -1.69502292e+00  2.48139474e+01 -5.47824056e+01  1.29256627e+02\n",
      "  9.75488130e+01  3.35497450e+02  2.18145966e+02  8.47434881e+01\n",
      "  1.59782520e+01  1.40673794e+00  8.95092085e+01 -7.31323013e+01\n",
      "  1.18497050e+02 -1.96645692e+02 -4.74517898e+01 -6.38293787e+01\n",
      "  7.77097709e+01  1.36961977e+02 -2.04288233e+00 -2.07430503e+02\n",
      " -2.89817970e+01  8.14024279e+01  5.22964193e+01 -4.03908620e+01\n",
      " -9.12972239e+01  1.76116384e+02 -1.38849457e+02  2.10268741e+01\n",
      " -1.41982431e+01  8.07253780e+00  1.65706998e+02  1.31663327e+02\n",
      " -2.83572217e+01  1.33442519e+02 -6.15415350e+01 -3.00710427e+02\n",
      "  1.11854015e+02  1.37782593e+02  4.05761081e+01 -2.71692553e+00\n",
      " -1.65476963e+02  6.35971713e+01 -1.86218848e+02 -6.47963848e+01\n",
      "  1.38445821e+00  8.52354635e+01  8.40609603e+00 -2.51668444e+01\n",
      " -7.39237737e+00  4.67297631e+01  8.17606401e+01  1.55450773e+01\n",
      "  1.40080938e+02  4.70947094e+01  7.61113682e+01 -1.11123695e+02\n",
      " -4.21903036e+01 -2.05101514e+02 -2.01756281e+02 -2.09135133e+02\n",
      " -1.36412497e+01  1.78932123e+02 -1.44718266e+01 -1.98418540e+02\n",
      "  3.53901595e+01  1.44808969e+02 -9.07471244e+00  5.46483029e+01\n",
      "  4.60214951e+01 -2.91668561e+00 -2.66661800e+02 -6.67948691e+00\n",
      "  8.29173804e+01 -9.15965481e+01  5.25928545e+01  1.65854598e+02\n",
      " -1.28967376e+02  5.93205289e+01 -1.11186422e+02  1.29682181e+02\n",
      "  1.24476660e+02 -1.11692469e+02  1.69735275e+02 -1.03643320e+02\n",
      "  1.58770164e+02 -5.74712199e+01 -2.26059631e+02 -3.44149913e+01\n",
      " -9.68059250e+01 -7.83189816e+01  8.16536824e+01  1.69239751e+02\n",
      "  2.31254578e+01  6.73271470e+01 -2.77803886e+01  7.00926464e+01\n",
      "  7.50491111e+00  8.49697168e+01  8.22094928e+01  2.14760292e+02\n",
      " -9.11179168e+01 -7.46718850e+01  2.52178604e+02  1.65511093e+02\n",
      "  3.58173542e+01  9.78592861e+01 -1.88353276e+02 -1.70029773e+02\n",
      " -1.51679306e+02 -5.43054393e+00  3.01266133e+01  1.63494635e+02\n",
      " -5.26601062e+01  2.53332719e+01 -8.54086623e+00  8.72004993e+01\n",
      "  3.21003699e+00  1.78045286e+02 -4.50548047e+01  5.59343464e+01\n",
      " -5.61493351e+01 -1.57635852e+02  1.17787250e+02  2.90009343e+00\n",
      "  3.36702594e+01 -1.04135580e+02 -5.84280479e+01 -6.61412564e+01\n",
      "  5.61469482e+01  1.14816268e+02 -2.41799926e+01 -1.46200443e+02\n",
      "  2.73624769e+01  5.68368541e+01  9.63777436e+01  1.47088684e+02\n",
      " -1.35911797e+01 -5.72782310e+01  1.28508833e+02 -1.09202884e+02\n",
      " -1.37138396e+02  1.30427113e+02 -5.78032204e+01 -2.15730042e+01\n",
      "  1.47216299e+02 -2.48448992e+02 -7.51619472e+01  4.63085329e+01\n",
      " -1.68226891e+02 -6.57132104e+01 -1.66609290e+02 -1.47012223e+01\n",
      "  7.66284559e+01  4.32452687e+01  6.21934898e+00  5.66797720e+00\n",
      " -4.36988620e+01 -3.20048473e+02  4.56237492e+01  2.77961454e+02\n",
      "  1.21302242e+02 -4.69093809e+01  9.48777402e+01  1.92279411e+02\n",
      " -2.40062110e+01 -1.65848341e+02  1.46129269e+02 -2.94826503e+02\n",
      " -1.40946231e+02 -8.07829063e+01 -2.09180298e+01 -5.23365941e+01\n",
      " -7.80598618e+01 -1.01475576e+01  1.02057812e+02  5.42909489e+01\n",
      "  3.48892230e+01 -1.28356647e+02  7.21598314e+01  2.96217355e+01\n",
      "  9.45087917e+00  2.25088858e+02  1.73010983e+02 -6.73311202e+01\n",
      "  6.75136253e+01 -2.92066241e+01 -1.00122406e+02 -5.88811796e+01\n",
      " -1.96953459e+02 -1.29933108e+02 -2.36283418e+01  3.75509510e+01\n",
      "  8.24494732e+00 -3.75526079e+01 -3.67623278e+01 -1.65390747e+01\n",
      " -1.22724543e+01 -2.18754480e+01  3.01412538e+01  9.56410255e+01\n",
      " -2.33479859e+02 -1.00978722e+02 -1.74046028e+01 -1.22190306e+02\n",
      " -1.33250403e+01 -6.90734391e+01  9.28014358e+01 -1.21587213e+02]\n"
     ]
    }
   ],
   "source": [
    "y = test_data['target']\n",
    "print(y.values)"
   ]
  },
  {
   "cell_type": "code",
   "execution_count": 218,
   "metadata": {},
   "outputs": [
    {
     "data": {
      "text/plain": [
       "Text(0, 0.5, 'Cost')"
      ]
     },
     "execution_count": 218,
     "metadata": {},
     "output_type": "execute_result"
    },
    {
     "data": {
      "image/png": "[encoded data removed]",
      "text/plain": [
       "<Figure size 432x288 with 1 Axes>"
      ]
     },
     "metadata": {
      "needs_background": "light"
     },
     "output_type": "display_data"
    }
   ],
   "source": [
    "cost = list(cost)\n",
    "n_iterations = [x for x in range(0,30000)]\n",
    "plt.plot(n_iterations, cost)\n",
    "plt.xlabel('No. of iterations')\n",
    "plt.ylabel('Cost')"
   ]
  },
  {
   "cell_type": "code",
   "execution_count": 214,
   "metadata": {},
   "outputs": [
    {
     "name": "stdout",
     "output_type": "stream",
     "text": [
      "[ 200.35050303  -53.3834956   150.80732024  322.31115467 -113.23731479\n",
      "  408.04581845  166.10437388 -175.92659331  309.1706399   -38.75750695\n",
      " -220.93216493   -4.14180472 -291.88329072  -45.17540107   -1.83450224\n",
      "   50.40204969  -28.88548875  -28.92821215  -45.72996483 -144.52289906\n",
      "  -88.27082621  -45.18400381 -365.35335475  102.25284032   97.14729053\n",
      "  -98.65652852   71.59963486 -283.06619491  -81.65257437  -78.25978568\n",
      "    4.65778951  331.61803999   87.6824735   124.88064527  126.09836205\n",
      "  222.60704736  -84.44952279  119.54690377  206.02121717  -58.41569194\n",
      " -270.51325907   28.69498119  179.0420543  -165.91976246 -107.54968567\n",
      "    5.94417461  -40.31735259 -164.15166937   46.34062057   77.66096458\n",
      "   86.76046794 -348.07600198 -111.24926302 -312.06584592    7.0725709\n",
      "   89.83644142 -135.52635463  106.9696716   -76.60355153   43.15766973\n",
      "    7.02622815   31.54884434  126.78846683   32.43615433 -139.80229231\n",
      "   16.78076969  140.89395301   47.30421706  150.02296775 -341.09656454\n",
      "  106.92979911 -177.74353823 -313.12433804  204.86311404 -265.14360999\n",
      "  -88.93927356   10.17241994   -4.75425109 -295.15878743 -133.35896068\n",
      "  -28.40944728    5.2524767    38.99760354   50.34223525 -202.32409385\n",
      "  164.25189257  -36.74588313  116.84325817   19.54930841   27.05873324\n",
      " -337.66585819 -224.01234723 -296.50242764  -40.82820381 -162.54002117\n",
      "  113.25692125  123.2137005   109.22357436   -6.20551924   36.05777296\n",
      "  -21.99127549  -20.21083062  -27.12762935 -115.68758344 -105.0725484\n",
      "   57.13418503  135.04913456   87.81806245  105.66555811  -28.88636276\n",
      " -152.50541092 -410.10849988  127.78473038  185.90470521 -336.70722238\n",
      "  -26.58392733 -185.32172869 -100.7665572  -249.49423248 -217.99983918\n",
      "  160.30213181  207.33170913   30.62113815 -317.07876627   63.16874027\n",
      "   24.26212907   53.8175023  -392.04998759 -416.71183188 -104.47434834\n",
      " -215.71244118   90.41916751  -64.76799815   61.60287286   -5.40015871\n",
      "  253.89837406  277.60212671  -74.17199628   79.14238652   -1.2211057\n",
      "  -58.88110709 -124.69651715 -212.44397265   14.45702415  186.48368616\n",
      "   71.64927122  -48.52822832  -34.82268269  153.45457096   82.05462443\n",
      " -210.08098095   64.25502668 -186.13822138 -278.07923304  -48.63081076\n",
      "  150.81588998  273.46508173  -63.61725339  143.55381987  109.62667738\n",
      " -144.64438877  -51.59850004   25.5603009  -150.73251859  202.04359497\n",
      "   81.48885978 -307.24157356  273.72221419   33.87217247 -318.07852347\n",
      "  275.84376038  214.00978725 -100.45419238 -298.19800247  109.45738578\n",
      "   89.01036737  295.31194272  -93.51260441   14.62659306  -64.25125976\n",
      "  -17.47778268  102.98302636  114.88541484  217.89985516  100.07256091\n",
      "  349.76284541  -61.35768478 -330.75187751  271.44569083 -121.20986433\n",
      "   56.97412221  119.06406889 -108.9726852   136.34235535  108.49931156\n",
      " -214.44574473 -157.5056732  -154.21041346   -3.85263392  -81.16546274\n",
      " -152.36234016  -29.57641193   18.95309467   27.35117022 -140.07015459\n",
      "  222.57342951  -43.99889208  -14.48725691 -113.19406048 -173.52067505\n",
      "  148.50717127  259.92719658  -49.82699676 -104.41497655 -168.05671068\n",
      "  -82.32297363  104.81751189 -241.53316402   32.16103887   40.37484471\n",
      "  -76.85270159   -8.5554922  -137.66093322   67.01792635    9.82543048\n",
      "  -31.15792138 -259.89027147  231.63177674  -10.53200424 -156.63409951\n",
      "  103.16631833 -112.1401263   303.96432395  -34.36051271  150.24944077\n",
      "   41.13797674   12.60942741  -38.56488954  -80.78684675   78.92346722\n",
      "   -1.23144626  117.3233141  -177.15078293 -105.17849027 -120.75035767\n",
      " -175.17242659   38.1121596   157.11781911  152.09528281  206.36766242\n",
      "  137.24486939  259.43829871  165.0911276  -172.48890558  -77.59730068\n",
      "  188.14639287 -151.03624611 -156.2970062  -169.98453357  -86.61104383\n",
      "  -91.10867527   10.16309704  223.56528472   44.39156152 -108.62811485\n",
      "  157.87711072  108.9081697  -288.24666593  138.8258941    92.78367398\n",
      "  151.64596017  -53.82568597   77.86426394  123.8115448  -123.24688166\n",
      "  195.44818046 -343.60719505  194.83086937  269.23248145  -80.74626279\n",
      "  -39.11931813  -12.50497576  -36.03221941 -186.54821904  -60.60919904\n",
      "  -62.58756062  162.84573687 -170.1571056    78.83793382  -97.62751331\n",
      "  -26.77811595 -374.32108358   80.68794138 -119.22577689  -64.01401584\n",
      " -117.81622979   34.5457507  -149.40242255   74.7701914   249.02733726\n",
      "  192.4712967   -88.46231946  111.2400503  -210.68200527  -14.75799163\n",
      " -152.13949146  -32.57036388 -106.55182067    9.65785265 -122.17182515\n",
      "   22.31192504  116.58811372 -106.45840495  211.02199422  -76.42100064\n",
      "  249.46056863  -18.9929395   -27.91598325  218.51527301  250.57321874\n",
      "  -21.74576156 -246.5682021    67.46755746  187.07848537 -176.59822199\n",
      "  -98.73238226  127.80270371 -143.37086462 -146.77911791  161.74167359\n",
      " -127.8204477    28.26766826  236.47431411 -195.25933725  236.32992738\n",
      "   59.09776923 -368.4958822   215.59025426 -135.43753133  -55.63784779\n",
      "  137.39503331  135.75770678   75.54287844   90.97465966 -129.21384486\n",
      " -145.56229903   31.29477829 -106.3677243   240.33344244  253.45735831\n",
      "  -90.11591715 -181.95751517 -344.00390922   41.82088643  112.27945993\n",
      " -334.11967276   91.63386887   47.61224549 -128.99275781  250.74547152\n",
      "  198.25501533  -88.57826477   27.08840914 -164.54306221   74.24021208\n",
      "   96.04837491    7.96877095  -57.74368251 -200.19171097  145.83804066\n",
      " -209.83143629 -110.90196065   26.17394519 -341.82698124 -122.44989096\n",
      "   49.45612593 -187.50320123   69.63817793   71.77900159  140.96702371\n",
      "  -22.17812711   81.73806382 -118.05786815   11.15796228   10.11204781\n",
      "  -82.92505217  167.17096192  -64.59124825   -9.90336037   89.75114248\n",
      "    6.76657445 -100.67445796  351.46324416  192.62207028  -80.25086272\n",
      "   61.00645739  -89.16112388   94.03883991 -110.29409678  172.49488622]\n"
     ]
    }
   ],
   "source": [
    "sc = y_test.reshape(400,) - y.values\n",
    "print(sc)"
   ]
  },
  {
   "cell_type": "code",
   "execution_count": 215,
   "metadata": {},
   "outputs": [],
   "source": [
    "sc = y.values - y_test.reshape(400,)"
   ]
  },
  {
   "cell_type": "code",
   "execution_count": 216,
   "metadata": {},
   "outputs": [
    {
     "name": "stdout",
     "output_type": "stream",
     "text": [
      "[-200.35050303   53.3834956  -150.80732024 -322.31115467  113.23731479\n",
      " -408.04581845 -166.10437388  175.92659331 -309.1706399    38.75750695\n",
      "  220.93216493    4.14180472  291.88329072   45.17540107    1.83450224\n",
      "  -50.40204969   28.88548875   28.92821215   45.72996483  144.52289906\n",
      "   88.27082621   45.18400381  365.35335475 -102.25284032  -97.14729053\n",
      "   98.65652852  -71.59963486  283.06619491   81.65257437   78.25978568\n",
      "   -4.65778951 -331.61803999  -87.6824735  -124.88064527 -126.09836205\n",
      " -222.60704736   84.44952279 -119.54690377 -206.02121717   58.41569194\n",
      "  270.51325907  -28.69498119 -179.0420543   165.91976246  107.54968567\n",
      "   -5.94417461   40.31735259  164.15166937  -46.34062057  -77.66096458\n",
      "  -86.76046794  348.07600198  111.24926302  312.06584592   -7.0725709\n",
      "  -89.83644142  135.52635463 -106.9696716    76.60355153  -43.15766973\n",
      "   -7.02622815  -31.54884434 -126.78846683  -32.43615433  139.80229231\n",
      "  -16.78076969 -140.89395301  -47.30421706 -150.02296775  341.09656454\n",
      " -106.92979911  177.74353823  313.12433804 -204.86311404  265.14360999\n",
      "   88.93927356  -10.17241994    4.75425109  295.15878743  133.35896068\n",
      "   28.40944728   -5.2524767   -38.99760354  -50.34223525  202.32409385\n",
      " -164.25189257   36.74588313 -116.84325817  -19.54930841  -27.05873324\n",
      "  337.66585819  224.01234723  296.50242764   40.82820381  162.54002117\n",
      " -113.25692125 -123.2137005  -109.22357436    6.20551924  -36.05777296\n",
      "   21.99127549   20.21083062   27.12762935  115.68758344  105.0725484\n",
      "  -57.13418503 -135.04913456  -87.81806245 -105.66555811   28.88636276\n",
      "  152.50541092  410.10849988 -127.78473038 -185.90470521  336.70722238\n",
      "   26.58392733  185.32172869  100.7665572   249.49423248  217.99983918\n",
      " -160.30213181 -207.33170913  -30.62113815  317.07876627  -63.16874027\n",
      "  -24.26212907  -53.8175023   392.04998759  416.71183188  104.47434834\n",
      "  215.71244118  -90.41916751   64.76799815  -61.60287286    5.40015871\n",
      " -253.89837406 -277.60212671   74.17199628  -79.14238652    1.2211057\n",
      "   58.88110709  124.69651715  212.44397265  -14.45702415 -186.48368616\n",
      "  -71.64927122   48.52822832   34.82268269 -153.45457096  -82.05462443\n",
      "  210.08098095  -64.25502668  186.13822138  278.07923304   48.63081076\n",
      " -150.81588998 -273.46508173   63.61725339 -143.55381987 -109.62667738\n",
      "  144.64438877   51.59850004  -25.5603009   150.73251859 -202.04359497\n",
      "  -81.48885978  307.24157356 -273.72221419  -33.87217247  318.07852347\n",
      " -275.84376038 -214.00978725  100.45419238  298.19800247 -109.45738578\n",
      "  -89.01036737 -295.31194272   93.51260441  -14.62659306   64.25125976\n",
      "   17.47778268 -102.98302636 -114.88541484 -217.89985516 -100.07256091\n",
      " -349.76284541   61.35768478  330.75187751 -271.44569083  121.20986433\n",
      "  -56.97412221 -119.06406889  108.9726852  -136.34235535 -108.49931156\n",
      "  214.44574473  157.5056732   154.21041346    3.85263392   81.16546274\n",
      "  152.36234016   29.57641193  -18.95309467  -27.35117022  140.07015459\n",
      " -222.57342951   43.99889208   14.48725691  113.19406048  173.52067505\n",
      " -148.50717127 -259.92719658   49.82699676  104.41497655  168.05671068\n",
      "   82.32297363 -104.81751189  241.53316402  -32.16103887  -40.37484471\n",
      "   76.85270159    8.5554922   137.66093322  -67.01792635   -9.82543048\n",
      "   31.15792138  259.89027147 -231.63177674   10.53200424  156.63409951\n",
      " -103.16631833  112.1401263  -303.96432395   34.36051271 -150.24944077\n",
      "  -41.13797674  -12.60942741   38.56488954   80.78684675  -78.92346722\n",
      "    1.23144626 -117.3233141   177.15078293  105.17849027  120.75035767\n",
      "  175.17242659  -38.1121596  -157.11781911 -152.09528281 -206.36766242\n",
      " -137.24486939 -259.43829871 -165.0911276   172.48890558   77.59730068\n",
      " -188.14639287  151.03624611  156.2970062   169.98453357   86.61104383\n",
      "   91.10867527  -10.16309704 -223.56528472  -44.39156152  108.62811485\n",
      " -157.87711072 -108.9081697   288.24666593 -138.8258941   -92.78367398\n",
      " -151.64596017   53.82568597  -77.86426394 -123.8115448   123.24688166\n",
      " -195.44818046  343.60719505 -194.83086937 -269.23248145   80.74626279\n",
      "   39.11931813   12.50497576   36.03221941  186.54821904   60.60919904\n",
      "   62.58756062 -162.84573687  170.1571056   -78.83793382   97.62751331\n",
      "   26.77811595  374.32108358  -80.68794138  119.22577689   64.01401584\n",
      "  117.81622979  -34.5457507   149.40242255  -74.7701914  -249.02733726\n",
      " -192.4712967    88.46231946 -111.2400503   210.68200527   14.75799163\n",
      "  152.13949146   32.57036388  106.55182067   -9.65785265  122.17182515\n",
      "  -22.31192504 -116.58811372  106.45840495 -211.02199422   76.42100064\n",
      " -249.46056863   18.9929395    27.91598325 -218.51527301 -250.57321874\n",
      "   21.74576156  246.5682021   -67.46755746 -187.07848537  176.59822199\n",
      "   98.73238226 -127.80270371  143.37086462  146.77911791 -161.74167359\n",
      "  127.8204477   -28.26766826 -236.47431411  195.25933725 -236.32992738\n",
      "  -59.09776923  368.4958822  -215.59025426  135.43753133   55.63784779\n",
      " -137.39503331 -135.75770678  -75.54287844  -90.97465966  129.21384486\n",
      "  145.56229903  -31.29477829  106.3677243  -240.33344244 -253.45735831\n",
      "   90.11591715  181.95751517  344.00390922  -41.82088643 -112.27945993\n",
      "  334.11967276  -91.63386887  -47.61224549  128.99275781 -250.74547152\n",
      " -198.25501533   88.57826477  -27.08840914  164.54306221  -74.24021208\n",
      "  -96.04837491   -7.96877095   57.74368251  200.19171097 -145.83804066\n",
      "  209.83143629  110.90196065  -26.17394519  341.82698124  122.44989096\n",
      "  -49.45612593  187.50320123  -69.63817793  -71.77900159 -140.96702371\n",
      "   22.17812711  -81.73806382  118.05786815  -11.15796228  -10.11204781\n",
      "   82.92505217 -167.17096192   64.59124825    9.90336037  -89.75114248\n",
      "   -6.76657445  100.67445796 -351.46324416 -192.62207028   80.25086272\n",
      "  -61.00645739   89.16112388  -94.03883991  110.29409678 -172.49488622]\n"
     ]
    }
   ],
   "source": [
    "print (sc)"
   ]
  },
  {
   "cell_type": "code",
   "execution_count": null,
   "metadata": {},
   "outputs": [],
   "source": []
  },
  {
   "cell_type": "code",
   "execution_count": null,
   "metadata": {},
   "outputs": [],
   "source": []
  }
 ],
 "metadata": {
  "kernelspec": {
   "display_name": "Python 3",
   "language": "python",
   "name": "python3"
  },
  "language_info": {
   "codemirror_mode": {
    "name": "ipython",
    "version": 3
   },
   "file_extension": ".py",
   "mimetype": "text/x-python",
   "name": "python",
   "nbconvert_exporter": "python",
   "pygments_lexer": "ipython3",
   "version": "3.7.4"
  }
 },
 "nbformat": 4,
 "nbformat_minor": 2
}
